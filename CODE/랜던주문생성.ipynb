{
 "cells": [
  {
   "cell_type": "code",
   "execution_count": 232,
   "id": "b05f31de",
   "metadata": {
    "ExecuteTime": {
     "end_time": "2022-06-08T00:53:15.050635Z",
     "start_time": "2022-06-08T00:53:14.889845Z"
    }
   },
   "outputs": [],
   "source": [
    "# pd.set_option('display.max_rows', 200)\n",
    "# lst = []\n",
    "# for x in dataset.groupby('매장').size().keys() :\n",
    "#     lst.append(x)\n",
    "    \n",
    "# lst\n",
    "# for col in dataset.columns :\n",
    "#     f = open(\"Sample/\"+col, 'w')\n",
    "#     for data in map(str,dataset.groupby(col).size().keys()) :\n",
    "#         f.write(str(data) + '|')\n",
    "#     f.close"
   ]
  },
  {
   "cell_type": "code",
   "execution_count": 123,
   "id": "c39a38d4",
   "metadata": {
    "ExecuteTime": {
     "end_time": "2022-06-07T15:56:46.307590Z",
     "start_time": "2022-06-07T15:56:46.304667Z"
    }
   },
   "outputs": [],
   "source": [
    "\n",
    "import pandas as pd\n",
    "import random"
   ]
  },
  {
   "cell_type": "code",
   "execution_count": 281,
   "id": "1088384e",
   "metadata": {
    "ExecuteTime": {
     "end_time": "2022-06-08T01:15:30.425383Z",
     "start_time": "2022-06-08T01:15:30.387669Z"
    }
   },
   "outputs": [],
   "source": [
    "columns=['플랜트', '플랜트명', '차수', '주문일자', '매장코드', '매장', '상품코드', '상품명', '운송장번호',\n",
    "       '운송장출력여부', '주문취소여부', '주문번호', '받는이', '우편번호', '주소1', '주소2', '전화번호1',\n",
    "       '전화번호2', '배송기재사항', '판매가', '합포여부', '예정수량', '검수수량', '출력일시', '출력자', '몰구분',\n",
    "       'DAS여부', 'DAS차수', 'DAS지시번호', 'BOXNO', 'CELLNO', '추가박스여부']\n",
    "Sample_set = {}\n",
    "\n",
    "for col in columns :\n",
    "    f = open('Sample/'+col,'r')\n",
    "    data = f.read()[:-1].split('|')\n",
    "    Sample_set[col] = data\n",
    "\n",
    "# 새롭게 생성될 랜덤 주문의 한 칼럼 값을 뽑는다. 뽑는 방법은 해당 칼럼의 샘플 중 랜덤해서 하나를 선택한다.(확률은 모두 동일)\n",
    "# 해당 칼럼의 샘플은 이미 만들어져 텍스트 파일로 저장되어 있다.\n",
    "# 인풋 : 칼럼의 이름\n",
    "def one_column_random(name) :\n",
    "    return random.choice(Sample_set[name])\n",
    "\n",
    "# 엑셀 파일을 만들기 위해 xlwt, openpyxl 라이브러리 설치 필요\n",
    "def radom_order_creator(N, name = 'Random_Sample') :\n",
    "    result = pd.DataFrame([], columns=columns)\n",
    "    for _ in range(N) :\n",
    "        new_random_data = []\n",
    "        for col in columns :\n",
    "            new_random_data.append(one_column_random(col))\n",
    "        result.loc[len(result)] = new_random_data\n",
    "    result.to_excel(name+'.xlsx', encoding='cp949')\n",
    "    print(\"파일이 생성되었습니다.\")"
   ]
  },
  {
   "cell_type": "code",
   "execution_count": 282,
   "id": "631cd8e6",
   "metadata": {
    "ExecuteTime": {
     "end_time": "2022-06-08T01:15:33.226201Z",
     "start_time": "2022-06-08T01:15:31.740162Z"
    }
   },
   "outputs": [
    {
     "name": "stdout",
     "output_type": "stream",
     "text": [
      "파일이 생성되었습니다.\n"
     ]
    }
   ],
   "source": [
    "# 사용예시\n",
    "# 랜덤주문을 생성하여 엑셀파일로 만든다 - 인풋 : 주문 개수 + 필요시 파일명\n",
    "radom_order_creator(1000)"
   ]
  }
 ],
 "metadata": {
  "kernelspec": {
   "display_name": "Python 3 (ipykernel)",
   "language": "python",
   "name": "python3"
  },
  "language_info": {
   "codemirror_mode": {
    "name": "ipython",
    "version": 3
   },
   "file_extension": ".py",
   "mimetype": "text/x-python",
   "name": "python",
   "nbconvert_exporter": "python",
   "pygments_lexer": "ipython3",
   "version": "3.9.12"
  }
 },
 "nbformat": 4,
 "nbformat_minor": 5
}
